{
 "cells": [
  {
   "cell_type": "code",
   "execution_count": 1,
   "metadata": {
    "collapsed": true
   },
   "outputs": [],
   "source": [
    "%matplotlib inline"
   ]
  },
  {
   "cell_type": "code",
   "execution_count": 2,
   "metadata": {
    "collapsed": false
   },
   "outputs": [],
   "source": [
    "import pandas as pd\n",
    "from psyrun import NpzStore"
   ]
  },
  {
   "cell_type": "code",
   "execution_count": 3,
   "metadata": {
    "collapsed": false
   },
   "outputs": [],
   "source": [
    "data = NpzStore().load('../data/memory.npz')\n",
    "data['dimensions'][np.logical_not(np.isfinite(data['dimensions']))] = -1\n",
    "data['n_neurons'][np.logical_not(np.isfinite(data['n_neurons']))] = -1"
   ]
  },
  {
   "cell_type": "code",
   "execution_count": 4,
   "metadata": {
    "collapsed": false
   },
   "outputs": [],
   "source": [
    "import xarray as xr"
   ]
  },
  {
   "cell_type": "code",
   "execution_count": 5,
   "metadata": {
    "collapsed": false
   },
   "outputs": [
    {
     "data": {
      "text/plain": [
       "dict_keys(['backend', 'model', 'memory', 'n_neurons', 'dimensions', 'trial', 'event_times', 'time'])"
      ]
     },
     "execution_count": 5,
     "metadata": {},
     "output_type": "execute_result"
    }
   ],
   "source": [
    "data.keys()"
   ]
  },
  {
   "cell_type": "code",
   "execution_count": 6,
   "metadata": {
    "collapsed": false
   },
   "outputs": [
    {
     "data": {
      "text/plain": [
       "array(['circ_conv', 'nback'], \n",
       "      dtype='<U9')"
      ]
     },
     "execution_count": 6,
     "metadata": {},
     "output_type": "execute_result"
    }
   ],
   "source": [
    "np.unique(data['model'])"
   ]
  },
  {
   "cell_type": "code",
   "execution_count": 7,
   "metadata": {
    "collapsed": false
   },
   "outputs": [],
   "source": [
    "ds = xr.Dataset({\n",
    "    'memory': (['idx', 't_idx'], data['memory']),\n",
    "    'time': (['idx', 't_idx'], data['time']),\n",
    "    'trial': (['idx'], data['trial']),\n",
    "    'n_neurons': (['idx'], data['n_neurons']),\n",
    "    'dimensions': (['idx'], data['dimensions']),\n",
    "    'backend': (['idx'], data['backend']),\n",
    "    'model': (['model'], data['model']),\n",
    "}, coords={'idx': range(len(data['trial'])), 't_idx': range(data['time'].shape[1])})"
   ]
  },
  {
   "cell_type": "code",
   "execution_count": 8,
   "metadata": {
    "collapsed": false
   },
   "outputs": [],
   "source": [
    "def get_coords(x):\n",
    "    coords = np.unique(x)\n",
    "    try:\n",
    "        coords[np.logical_not(np.isfinite(coords))] = -1\n",
    "    except:\n",
    "        pass\n",
    "    return np.unique(coords)\n",
    "\n",
    "keys = ['model', 'backend', 'n_neurons', 'dimensions', 'trial']\n",
    "coords = {k: get_coords(data[k]) for k in keys}\n",
    "coords['t_idx'] = range(data['time'].shape[1])\n",
    "shape = tuple(len(coords[k]) for k in keys) + (data['time'].shape[1],)"
   ]
  },
  {
   "cell_type": "code",
   "execution_count": 9,
   "metadata": {
    "collapsed": false
   },
   "outputs": [
    {
     "data": {
      "text/plain": [
       "<xarray.Dataset>\n",
       "Dimensions:     (backend: 4, dimensions: 2, model: 2, n_neurons: 2, t_idx: 8804, trial: 5)\n",
       "Coordinates:\n",
       "  * t_idx       (t_idx) int64 0 1 2 3 4 5 6 7 8 9 10 11 12 13 14 15 16 17 18 ...\n",
       "  * backend     (backend) <U9 'ocl_cpu' 'ocl_gpu' 'optimized' 'reference'\n",
       "  * dimensions  (dimensions) float64 -1.0 500.0\n",
       "  * model       (model) <U9 'circ_conv' 'nback'\n",
       "  * n_neurons   (n_neurons) float64 -1.0 500.0\n",
       "  * trial       (trial) int64 0 1 2 3 4\n",
       "Data variables:\n",
       "    memory      (model, backend, n_neurons, dimensions, trial, t_idx) float64 0.0 ...\n",
       "    t           (model, backend, n_neurons, dimensions, trial, t_idx) float64 0.0 ..."
      ]
     },
     "execution_count": 9,
     "metadata": {},
     "output_type": "execute_result"
    }
   ],
   "source": [
    "ds = xr.Dataset({\n",
    "        'memory': (keys + ['t_idx'], np.empty(shape)),\n",
    "        't': (keys + ['t_idx'], np.empty(shape)),\n",
    "    }, coords=coords)\n",
    "ds"
   ]
  },
  {
   "cell_type": "code",
   "execution_count": 10,
   "metadata": {
    "collapsed": false
   },
   "outputs": [],
   "source": [
    "import itertools\n",
    "for x in itertools.product(*(coords[k] for k in keys)):\n",
    "    sel = np.ones_like(data['memory'], dtype=bool)\n",
    "    for i, k in enumerate(keys):\n",
    "        sel = np.logical_and(sel, (data[k] == x[i])[:, None])\n",
    "        #print(k, x[i])\n",
    "        #print(np.any(data[k] == x[i]))\n",
    "        #print(np.any(sel))\n",
    "    loc = {k: x[i] for i, k in enumerate(keys)}\n",
    "    #print(data['memory'].shape, sel.shape, sel)\n",
    "    if np.any(sel):\n",
    "        ds['memory'].loc[loc] = data['memory'][sel]\n",
    "        ds['t'].loc[loc] = data['time'][sel]"
   ]
  },
  {
   "cell_type": "code",
   "execution_count": 11,
   "metadata": {
    "collapsed": true
   },
   "outputs": [],
   "source": [
    "def mem_for(benchmark, backend, n_neurons=-1, dimensions=-1):\n",
    "    da = ds.loc[{\n",
    "        'model': benchmark,\n",
    "        'backend': backend,\n",
    "        'n_neurons': n_neurons,\n",
    "        'dimensions': dimensions,\n",
    "    }]\n",
    "    return np.max(da['memory'] / 1024. / 1024.)"
   ]
  },
  {
   "cell_type": "code",
   "execution_count": 12,
   "metadata": {
    "collapsed": false
   },
   "outputs": [
    {
     "name": "stdout",
     "output_type": "stream",
     "text": [
      "reference: <xarray.DataArray 'memory' ()>\n",
      "array(321.48828125)\n",
      "Coordinates:\n",
      "    backend     <U9 'reference'\n",
      "    dimensions  float64 500.0\n",
      "    model       <U9 'circ_conv'\n",
      "    n_neurons   float64 500.0\n",
      "optimized: <xarray.DataArray 'memory' ()>\n",
      "array(346.21484375)\n",
      "Coordinates:\n",
      "    backend     <U9 'optimized'\n",
      "    dimensions  float64 500.0\n",
      "    model       <U9 'circ_conv'\n",
      "    n_neurons   float64 500.0\n"
     ]
    }
   ],
   "source": [
    "print('reference:', mem_for('circ_conv', 'reference', 500, 500))\n",
    "print('optimized:', mem_for('circ_conv', 'optimized', 500, 500))"
   ]
  },
  {
   "cell_type": "code",
   "execution_count": 13,
   "metadata": {
    "collapsed": false
   },
   "outputs": [
    {
     "name": "stdout",
     "output_type": "stream",
     "text": [
      "reference: <xarray.DataArray 'memory' ()>\n",
      "array(168.93359375)\n",
      "Coordinates:\n",
      "    backend     <U9 'reference'\n",
      "    dimensions  float64 -1.0\n",
      "    model       <U9 'nback'\n",
      "    n_neurons   float64 -1.0\n",
      "optimized: <xarray.DataArray 'memory' ()>\n",
      "array(165.8828125)\n",
      "Coordinates:\n",
      "    backend     <U9 'optimized'\n",
      "    dimensions  float64 -1.0\n",
      "    model       <U9 'nback'\n",
      "    n_neurons   float64 -1.0\n"
     ]
    }
   ],
   "source": [
    "print('reference:', mem_for('nback', 'reference'))\n",
    "print('optimized:', mem_for('nback', 'optimized'))"
   ]
  },
  {
   "cell_type": "code",
   "execution_count": null,
   "metadata": {
    "collapsed": true
   },
   "outputs": [],
   "source": []
  }
 ],
 "metadata": {
  "kernelspec": {
   "display_name": "Python 3",
   "language": "python",
   "name": "python3"
  },
  "language_info": {
   "codemirror_mode": {
    "name": "ipython",
    "version": 3
   },
   "file_extension": ".py",
   "mimetype": "text/x-python",
   "name": "python",
   "nbconvert_exporter": "python",
   "pygments_lexer": "ipython3",
   "version": "3.5.2"
  }
 },
 "nbformat": 4,
 "nbformat_minor": 0
}
