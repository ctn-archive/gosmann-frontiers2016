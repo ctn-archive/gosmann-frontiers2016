{
 "cells": [
  {
   "cell_type": "code",
   "execution_count": 1,
   "metadata": {
    "collapsed": true
   },
   "outputs": [],
   "source": [
    "%matplotlib inline"
   ]
  },
  {
   "cell_type": "code",
   "execution_count": 2,
   "metadata": {
    "collapsed": false
   },
   "outputs": [],
   "source": [
    "import pandas as pd\n",
    "from psyrun import NpzStore"
   ]
  },
  {
   "cell_type": "code",
   "execution_count": 3,
   "metadata": {
    "collapsed": false
   },
   "outputs": [],
   "source": [
    "data = NpzStore().load('../data/memory_spaun.npz')"
   ]
  },
  {
   "cell_type": "code",
   "execution_count": 4,
   "metadata": {
    "collapsed": false
   },
   "outputs": [],
   "source": [
    "import xarray as xr"
   ]
  },
  {
   "cell_type": "code",
   "execution_count": 5,
   "metadata": {
    "collapsed": false
   },
   "outputs": [
    {
     "data": {
      "text/plain": [
       "dict_keys(['trial', 'backend', 'time', 'event_times', 'memory', 'model'])"
      ]
     },
     "execution_count": 5,
     "metadata": {},
     "output_type": "execute_result"
    }
   ],
   "source": [
    "data.keys()"
   ]
  },
  {
   "cell_type": "code",
   "execution_count": 6,
   "metadata": {
    "collapsed": false
   },
   "outputs": [
    {
     "data": {
      "text/plain": [
       "(20, 3)"
      ]
     },
     "execution_count": 6,
     "metadata": {},
     "output_type": "execute_result"
    }
   ],
   "source": [
    "data['event_times'].shape"
   ]
  },
  {
   "cell_type": "code",
   "execution_count": 7,
   "metadata": {
    "collapsed": false
   },
   "outputs": [
    {
     "data": {
      "text/plain": [
       "array(['spaun'], \n",
       "      dtype='<U5')"
      ]
     },
     "execution_count": 7,
     "metadata": {},
     "output_type": "execute_result"
    }
   ],
   "source": [
    "np.unique(data['model'])"
   ]
  },
  {
   "cell_type": "code",
   "execution_count": 8,
   "metadata": {
    "collapsed": false
   },
   "outputs": [],
   "source": [
    "ds = xr.Dataset({\n",
    "    'memory': (['idx', 't_idx'], data['memory']),\n",
    "    'time': (['idx', 't_idx'], data['time']),\n",
    "    'trial': (['idx'], data['trial']),\n",
    "    'backend': (['idx'], data['backend']),\n",
    "    'model': (['model'], data['model']),\n",
    "}, coords={'idx': range(len(data['trial'])), 't_idx': range(data['time'].shape[1])})"
   ]
  },
  {
   "cell_type": "code",
   "execution_count": 9,
   "metadata": {
    "collapsed": false
   },
   "outputs": [],
   "source": [
    "def get_coords(x):\n",
    "    coords = np.unique(x)\n",
    "    try:\n",
    "        coords[np.logical_not(np.isfinite(coords))] = -1\n",
    "    except:\n",
    "        pass\n",
    "    return np.unique(coords)\n",
    "\n",
    "keys = ['model', 'backend', 'trial']\n",
    "coords = {k: get_coords(data[k]) for k in keys}\n",
    "coords['t_idx'] = range(data['time'].shape[1])\n",
    "shape = tuple(len(coords[k]) for k in keys) + (data['time'].shape[1],)"
   ]
  },
  {
   "cell_type": "code",
   "execution_count": 10,
   "metadata": {
    "collapsed": false
   },
   "outputs": [
    {
     "data": {
      "text/plain": [
       "<xarray.Dataset>\n",
       "Dimensions:  (backend: 4, ev: 3, model: 1, t_idx: 79498, trial: 5)\n",
       "Coordinates:\n",
       "  * t_idx    (t_idx) int64 0 1 2 3 4 5 6 7 8 9 10 11 12 13 14 15 16 17 18 19 ...\n",
       "  * trial    (trial) int64 0 1 2 3 4\n",
       "  * backend  (backend) <U9 'ocl_cpu' 'ocl_gpu' 'optimized' 'reference'\n",
       "  * model    (model) <U5 'spaun'\n",
       "  * ev       (ev) int64 0 1 2\n",
       "Data variables:\n",
       "    t        (model, backend, trial, t_idx) float64 0.0 0.0 0.0 0.0 0.0 0.0 ...\n",
       "    memory   (model, backend, trial, t_idx) float64 0.0 0.0 0.0 0.0 0.0 0.0 ...\n",
       "    events   (model, backend, trial, ev) float64 6.93e-310 6.93e-310 ..."
      ]
     },
     "execution_count": 10,
     "metadata": {},
     "output_type": "execute_result"
    }
   ],
   "source": [
    "ds = xr.Dataset({\n",
    "        'memory': (keys + ['t_idx'], np.empty(shape)),\n",
    "        't': (keys + ['t_idx'], np.empty(shape)),\n",
    "        'events': (keys + ['ev'], np.empty(shape[:-1] + (3,)))\n",
    "    }, coords=coords)\n",
    "ds"
   ]
  },
  {
   "cell_type": "code",
   "execution_count": 11,
   "metadata": {
    "collapsed": false
   },
   "outputs": [],
   "source": [
    "import itertools\n",
    "for x in itertools.product(*(coords[k] for k in keys)):\n",
    "    sel = np.ones_like(data['memory'], dtype=bool)\n",
    "    for i, k in enumerate(keys):\n",
    "        sel = np.logical_and(sel, (data[k] == x[i])[:, None])\n",
    "        #print(k, x[i])\n",
    "        #print(np.any(data[k] == x[i]))\n",
    "        #print(np.any(sel))\n",
    "    loc = {k: x[i] for i, k in enumerate(keys)}\n",
    "    #print(data['memory'].shape, sel.shape, sel)\n",
    "    if np.any(sel):\n",
    "        ds['memory'].loc[loc] = data['memory'][sel]\n",
    "        ds['t'].loc[loc] = data['time'][sel]\n",
    "        ds['events'].loc[loc] = data['event_times'][np.max(sel, axis=-1)]"
   ]
  },
  {
   "cell_type": "code",
   "execution_count": 12,
   "metadata": {
    "collapsed": false
   },
   "outputs": [
    {
     "name": "stdout",
     "output_type": "stream",
     "text": [
      "reference: <xarray.DataArray 'memory' ()>\n",
      "array(12248.0234375)\n",
      "Coordinates:\n",
      "    backend  <U9 'reference'\n",
      "    model    <U5 'spaun'\n",
      "optimized: <xarray.DataArray 'memory' ()>\n",
      "array(19111.60546875)\n",
      "Coordinates:\n",
      "    backend  <U9 'optimized'\n",
      "    model    <U5 'spaun'\n"
     ]
    }
   ],
   "source": [
    "da = ds.loc[{\n",
    "    'model': 'spaun',\n",
    "    'backend': 'reference',\n",
    "}]\n",
    "print('reference:', np.max(da['memory'] / 1024. / 1024.))\n",
    "\n",
    "da = ds.loc[{\n",
    "    'model': 'spaun',\n",
    "    'backend': 'optimized',\n",
    "}]\n",
    "print('optimized:', np.max(da['memory'] / 1024. / 1024.))"
   ]
  },
  {
   "cell_type": "code",
   "execution_count": null,
   "metadata": {
    "collapsed": true
   },
   "outputs": [],
   "source": []
  }
 ],
 "metadata": {
  "kernelspec": {
   "display_name": "Python 3",
   "language": "python",
   "name": "python3"
  },
  "language_info": {
   "codemirror_mode": {
    "name": "ipython",
    "version": 3
   },
   "file_extension": ".py",
   "mimetype": "text/x-python",
   "name": "python",
   "nbconvert_exporter": "python",
   "pygments_lexer": "ipython3",
   "version": "3.5.2"
  }
 },
 "nbformat": 4,
 "nbformat_minor": 0
}
